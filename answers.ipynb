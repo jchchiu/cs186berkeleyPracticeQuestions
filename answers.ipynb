{
 "cells": [
  {
   "cell_type": "markdown",
   "id": "4ba2d444",
   "metadata": {},
   "source": [
    "### SQL Part 1 - Basic Queries"
   ]
  },
  {
   "cell_type": "code",
   "execution_count": null,
   "id": "58892672",
   "metadata": {
    "vscode": {
     "languageId": "sql"
    }
   },
   "outputs": [],
   "source": [
    "SELECT name\n",
    "FROM dogs\n",
    "WHERE ownerid = 3;"
   ]
  },
  {
   "cell_type": "code",
   "execution_count": null,
   "id": "09743445",
   "metadata": {
    "vscode": {
     "languageId": "sql"
    }
   },
   "outputs": [],
   "source": [
    "SELECT name, age\n",
    "FROM dogs\n",
    "ORDER BY age DESC, name\n",
    "LIMIT 5;"
   ]
  },
  {
   "cell_type": "code",
   "execution_count": null,
   "id": "94795cc4",
   "metadata": {
    "vscode": {
     "languageId": "sql"
    }
   },
   "outputs": [],
   "source": [
    "SELECT breed, COUNT(*) as total\n",
    "FROM dogs\n",
    "GROUP BY breed\n",
    "HAVING COUNT(*) > 1;"
   ]
  },
  {
   "cell_type": "markdown",
   "id": "d06b4687",
   "metadata": {},
   "source": [
    "### SQL Part 2 - Joins & Subqueries"
   ]
  },
  {
   "cell_type": "code",
   "execution_count": null,
   "id": "0c33398c",
   "metadata": {
    "vscode": {
     "languageId": "sql"
    }
   },
   "outputs": [],
   "source": [
    "SELECT d.name\n",
    "FROM dogs as d INNER JOIN users as u\n",
    "ON d.ownerid = u.userid\n",
    "WHERE u.name = \"Josh Hug\";"
   ]
  },
  {
   "cell_type": "code",
   "execution_count": null,
   "id": "e37be1ab",
   "metadata": {
    "vscode": {
     "languageId": "sql"
    }
   },
   "outputs": [],
   "source": [
    "SELECT d.name\n",
    "FROM dogs as d, users as u\n",
    "WHERE d.ownerid = u.userid AND u.name = \"Josh Hug\";"
   ]
  },
  {
   "cell_type": "code",
   "execution_count": null,
   "id": "e2c4b201",
   "metadata": {
    "vscode": {
     "languageId": "sql"
    }
   },
   "outputs": [],
   "source": [
    "WITH ownerDogsCount AS (\n",
    "    SELECT u.name, COUNT(*) as numDogs -- Does u.userid need to be added here?\n",
    "    FROM dogs as d INNER JOIN users as u\n",
    "    ON d.ownerid = u.userid\n",
    "    GROUP BY u.name, u.userid -- Users may have the same name\n",
    ")\n",
    "\n",
    "SELECT u.name, numDogs\n",
    "FROM ownerDogsCount\n",
    "ORDER BY numDogs DESC\n",
    "LIMIT 1;\n",
    "\n",
    "SELECT users.name, COUNT(*)\n",
    "FROM users INNER JOIN dogs on users.userid = dogs.ownerid\n",
    "GROUP BY users.userid, users.name\n",
    "ORDER BY COUNT(*) DESC\n",
    "LIMIT 1;"
   ]
  },
  {
   "cell_type": "code",
   "execution_count": null,
   "id": "8ffd0457",
   "metadata": {
    "vscode": {
     "languageId": "sql"
    }
   },
   "outputs": [],
   "source": [
    "WITH ownerDogsCount AS (\n",
    "    SELECT u.name, COUNT(*) as numDogs\n",
    "    FROM dogs as d INNER JOIN users as u\n",
    "    ON d.ownerid = u.userid\n",
    "    GROUP BY u.name, u.userid\n",
    ")\n",
    "\n",
    "SELECT u.name, numDogs\n",
    "FROM ownerDogsCount\n",
    "WHERE numDOGS = (\n",
    "    SELECT MAX(numDogs)\n",
    "    FROM ownerDogsCount\n",
    ");\n",
    "\n",
    "SELECT users.name, COUNT(*)\n",
    "FROM users INNER JOIN dogs ON users.userid = dogs.ownerid\n",
    "GROUP BY users.userid, users.name\n",
    "HAVING COUNT(*) >= all( -- Can you use MAX instead of all?\n",
    "    SELECT COUNT(*)\n",
    "    FROM dogs\n",
    "    GROUP BY ownerid\n",
    ");\n"
   ]
  },
  {
   "cell_type": "markdown",
   "id": "8bf21fd1",
   "metadata": {},
   "source": [
    "### Disks and Files\n",
    "- READ: data from disk -> RAM\n",
    "- WRITE: data from RAM -> disk\n",
    "- Basic unit of data for a disk is a PAGE\n",
    "- HEAP file: page directory better than linked list for insertion; time complexity for searching is linear (N I/O) as unordered\n",
    "- SORTED file: better at searching (logN I/O) where N is the # pages (uses binary search); insertion in average case is (logN + N I/O) as you first have to search for page and then on average N/2 pages will need to be pushed back; as these need both read and write I/O, there will be on average N I/O operations"
   ]
  },
  {
   "cell_type": "markdown",
   "id": "913a801f",
   "metadata": {},
   "source": [
    "1. I/O Cost: 4 * 1 (read header) + 1 (read data) + 1 (write data) + 1 (write last header) = 7 I/Os"
   ]
  },
  {
   "cell_type": "markdown",
   "id": "0de12630",
   "metadata": {},
   "source": [
    "2. 5 (Record Header) ~~+ 1 (VARCHAR)~~ + 1 (BOOLEAN) + 8 (DATE) = ~~15~~ 14 bytes\n",
    "- VARCHAR (name/state) can be NULL"
   ]
  },
  {
   "cell_type": "markdown",
   "id": "596bfdf3",
   "metadata": {},
   "source": [
    "3. ~~1024//14 = 73~~\n",
    "In order to maximize the number of records that can be stored, we will consider the case when all records are of the minimum size. In the previous question, the minimum size of the record was calculated to be 14 bytes. Additionally, we need to account for the slot directory entires and the rest of the page footer, containing a free space pointer and a slot count. The slot count is 4B, the free space pointer is 4B, and the slot directory entries are 8B per record.\n",
    "\n",
    "Thus, the max number of records that can be stored is floor (1024 - 8 / 14 + 8)"
   ]
  },
  {
   "cell_type": "markdown",
   "id": "c3f818aa",
   "metadata": {},
   "source": [
    "4. 5 (Record Header) + 12 (VARCHAR(12)) + 1 (BOOLEAN) + 8 (DATE) + 2 (VARCHAR(2)) = 28 bytes"
   ]
  },
  {
   "cell_type": "markdown",
   "id": "4cee90b2",
   "metadata": {},
   "source": [
    "5. 4 (slot count) + 4 (free space pointer) + 4 * 8 (entry) = 40B\n",
    "- entry is record pointer (4B) + record length (4B)"
   ]
  },
  {
   "cell_type": "markdown",
   "id": "acf3e66b",
   "metadata": {},
   "source": [
    "6. 1 (read header) + 5 (read pages with free space) = 6 I/Os\n",
    "- Full page portion is not read"
   ]
  },
  {
   "cell_type": "markdown",
   "id": "192b8b0f",
   "metadata": {},
   "source": [
    "7. False - in a page directory implementation metadata is stored in the header page with pointers to associated data pages and the amount of free space left within that data page"
   ]
  },
  {
   "cell_type": "code",
   "execution_count": null,
   "id": "9c25f5fe",
   "metadata": {
    "vscode": {
     "languageId": "sql"
    }
   },
   "outputs": [],
   "source": []
  }
 ],
 "metadata": {
  "language_info": {
   "name": "python"
  }
 },
 "nbformat": 4,
 "nbformat_minor": 5
}
